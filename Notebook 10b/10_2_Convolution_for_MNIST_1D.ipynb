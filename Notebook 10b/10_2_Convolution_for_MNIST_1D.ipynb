{
 "cells": [
  {
   "cell_type": "markdown",
   "metadata": {
    "colab_type": "text",
    "id": "view-in-github"
   },
   "source": [
    "<a href=\"https://colab.research.google.com/github/udlbook/udlbook/blob/main/Notebooks/Chap10/10_2_Convolution_for_MNIST_1D.ipynb\" target=\"_parent\"><img src=\"https://colab.research.google.com/assets/colab-badge.svg\" alt=\"Open In Colab\"/></a>"
   ]
  },
  {
   "cell_type": "markdown",
   "metadata": {
    "id": "t9vk9Elugvmi"
   },
   "source": [
    "# **Notebook 10.2: Convolution for MNIST-1D**\n",
    "\n",
    "This notebook investigates a 1D convolutional network for MNIST-1D as in figure 10.7 and 10.8a.\n",
    "\n",
    "Work through the cells below, running each cell in turn. In various places you will see the words \"TO DO\". Follow the instructions at these places and make predictions about what is going to happen or write code to complete the functions.\n",
    "\n",
    "Contact me at udlbookmail@gmail.com if you find any mistakes or have any suggestions.\n",
    "\n"
   ]
  },
  {
   "cell_type": "code",
   "execution_count": 3,
   "metadata": {
    "id": "D5yLObtZCi9J"
   },
   "outputs": [
    {
     "name": "stdout",
     "output_type": "stream",
     "text": [
      "Collecting git+https://github.com/greydanus/mnist1d\n",
      "  Cloning https://github.com/greydanus/mnist1d to c:\\users\\matth\\appdata\\local\\temp\\pip-req-build-e_xydqf4\n",
      "  Resolved https://github.com/greydanus/mnist1d to commit 7878d96082abd200c546a07a4101fa90b30fdf7e\n",
      "  Installing build dependencies: started\n",
      "  Installing build dependencies: finished with status 'done'\n",
      "  Getting requirements to build wheel: started\n",
      "  Getting requirements to build wheel: finished with status 'done'\n",
      "  Preparing metadata (pyproject.toml): started\n",
      "  Preparing metadata (pyproject.toml): finished with status 'done'\n",
      "Requirement already satisfied: requests in c:\\users\\matth\\appdata\\local\\programs\\python\\python312\\lib\\site-packages (from mnist1d==0.0.2.post16) (2.32.3)\n",
      "Requirement already satisfied: numpy in c:\\users\\matth\\appdata\\local\\programs\\python\\python312\\lib\\site-packages (from mnist1d==0.0.2.post16) (2.1.0)\n",
      "Requirement already satisfied: matplotlib in c:\\users\\matth\\appdata\\local\\programs\\python\\python312\\lib\\site-packages (from mnist1d==0.0.2.post16) (3.9.2)\n",
      "Requirement already satisfied: scipy in c:\\users\\matth\\appdata\\local\\programs\\python\\python312\\lib\\site-packages (from mnist1d==0.0.2.post16) (1.14.1)\n",
      "Requirement already satisfied: contourpy>=1.0.1 in c:\\users\\matth\\appdata\\local\\programs\\python\\python312\\lib\\site-packages (from matplotlib->mnist1d==0.0.2.post16) (1.3.0)\n",
      "Requirement already satisfied: cycler>=0.10 in c:\\users\\matth\\appdata\\local\\programs\\python\\python312\\lib\\site-packages (from matplotlib->mnist1d==0.0.2.post16) (0.12.1)\n",
      "Requirement already satisfied: fonttools>=4.22.0 in c:\\users\\matth\\appdata\\local\\programs\\python\\python312\\lib\\site-packages (from matplotlib->mnist1d==0.0.2.post16) (4.53.1)\n",
      "Requirement already satisfied: kiwisolver>=1.3.1 in c:\\users\\matth\\appdata\\local\\programs\\python\\python312\\lib\\site-packages (from matplotlib->mnist1d==0.0.2.post16) (1.4.5)\n",
      "Requirement already satisfied: packaging>=20.0 in c:\\users\\matth\\appdata\\roaming\\python\\python312\\site-packages (from matplotlib->mnist1d==0.0.2.post16) (24.1)\n",
      "Requirement already satisfied: pillow>=8 in c:\\users\\matth\\appdata\\local\\programs\\python\\python312\\lib\\site-packages (from matplotlib->mnist1d==0.0.2.post16) (10.4.0)\n",
      "Requirement already satisfied: pyparsing>=2.3.1 in c:\\users\\matth\\appdata\\local\\programs\\python\\python312\\lib\\site-packages (from matplotlib->mnist1d==0.0.2.post16) (3.1.4)\n",
      "Requirement already satisfied: python-dateutil>=2.7 in c:\\users\\matth\\appdata\\roaming\\python\\python312\\site-packages (from matplotlib->mnist1d==0.0.2.post16) (2.9.0.post0)\n",
      "Requirement already satisfied: charset-normalizer<4,>=2 in c:\\users\\matth\\appdata\\local\\programs\\python\\python312\\lib\\site-packages (from requests->mnist1d==0.0.2.post16) (3.3.2)\n",
      "Requirement already satisfied: idna<4,>=2.5 in c:\\users\\matth\\appdata\\local\\programs\\python\\python312\\lib\\site-packages (from requests->mnist1d==0.0.2.post16) (3.10)\n",
      "Requirement already satisfied: urllib3<3,>=1.21.1 in c:\\users\\matth\\appdata\\local\\programs\\python\\python312\\lib\\site-packages (from requests->mnist1d==0.0.2.post16) (2.2.3)\n",
      "Requirement already satisfied: certifi>=2017.4.17 in c:\\users\\matth\\appdata\\local\\programs\\python\\python312\\lib\\site-packages (from requests->mnist1d==0.0.2.post16) (2024.8.30)\n",
      "Requirement already satisfied: six>=1.5 in c:\\users\\matth\\appdata\\roaming\\python\\python312\\site-packages (from python-dateutil>=2.7->matplotlib->mnist1d==0.0.2.post16) (1.16.0)\n"
     ]
    },
    {
     "name": "stderr",
     "output_type": "stream",
     "text": [
      "  Running command git clone --filter=blob:none --quiet https://github.com/greydanus/mnist1d 'C:\\Users\\matth\\AppData\\Local\\Temp\\pip-req-build-e_xydqf4'\n",
      "\n",
      "[notice] A new release of pip is available: 24.2 -> 24.3.1\n",
      "[notice] To update, run: python.exe -m pip install --upgrade pip\n"
     ]
    }
   ],
   "source": [
    "# Run this if you're in a Colab to install MNIST 1D repository\n",
    "!pip install git+https://github.com/greydanus/mnist1d"
   ]
  },
  {
   "cell_type": "code",
   "execution_count": 4,
   "metadata": {
    "id": "YrXWAH7sUWvU"
   },
   "outputs": [],
   "source": [
    "import numpy as np\n",
    "import os\n",
    "import torch, torch.nn as nn\n",
    "from torch.utils.data import TensorDataset, DataLoader\n",
    "from torch.optim.lr_scheduler import StepLR\n",
    "import matplotlib.pyplot as plt\n",
    "import mnist1d\n",
    "import random"
   ]
  },
  {
   "cell_type": "code",
   "execution_count": 5,
   "metadata": {
    "id": "twI72ZCrCt5z"
   },
   "outputs": [
    {
     "name": "stdout",
     "output_type": "stream",
     "text": [
      "Successfully loaded data from ./mnist1d_data.pkl\n",
      "Examples in training set: 4000\n",
      "Examples in test set: 1000\n",
      "Length of each example: 40\n"
     ]
    }
   ],
   "source": [
    "args = mnist1d.data.get_dataset_args()\n",
    "data = mnist1d.data.get_dataset(args, path='./mnist1d_data.pkl', download=False, regenerate=False)\n",
    "\n",
    "# The training and test input and outputs are in\n",
    "# data['x'], data['y'], data['x_test'], and data['y_test']\n",
    "print(\"Examples in training set: {}\".format(len(data['y'])))\n",
    "print(\"Examples in test set: {}\".format(len(data['y_test'])))\n",
    "print(\"Length of each example: {}\".format(data['x'].shape[-1]))"
   ]
  },
  {
   "cell_type": "code",
   "execution_count": 6,
   "metadata": {
    "id": "8bKADvLHbiV5"
   },
   "outputs": [
    {
     "name": "stdout",
     "output_type": "stream",
     "text": [
      "Train data: 4000 examples (columns), each of which has 40 dimensions (rows)\n",
      "Validation data: 1000 examples (columns), each of which has 40 dimensions (rows)\n"
     ]
    }
   ],
   "source": [
    "# Load in the data\n",
    "train_data_x = data['x'].transpose()\n",
    "train_data_y = data['y']\n",
    "val_data_x = data['x_test'].transpose()\n",
    "val_data_y = data['y_test']\n",
    "# Print out sizes\n",
    "print(\"Train data: %d examples (columns), each of which has %d dimensions (rows)\"%((train_data_x.shape[1],train_data_x.shape[0])))\n",
    "print(\"Validation data: %d examples (columns), each of which has %d dimensions (rows)\"%((val_data_x.shape[1],val_data_x.shape[0])))"
   ]
  },
  {
   "cell_type": "markdown",
   "metadata": {
    "id": "_sFvRDGrl4qe"
   },
   "source": [
    "Define the network"
   ]
  },
  {
   "cell_type": "code",
   "execution_count": 7,
   "metadata": {
    "id": "FslroPJJffrh"
   },
   "outputs": [],
   "source": [
    "# There are 40 input dimensions and 10 output dimensions for this data\n",
    "# The inputs correspond to the 40 offsets in the MNIST1D template.\n",
    "D_i = 40\n",
    "# The outputs correspond to the 10 digits\n",
    "D_o = 10\n",
    "\n",
    "\n",
    "# TODO Create a model with the following layers\n",
    "# 1. Convolutional layer, (input=length 40 and 1 channel, kernel size 3, stride 2, padding=\"valid\", 15 output channels )\n",
    "# 2. ReLU\n",
    "# 3. Convolutional layer, (input=length 19 and 15 channels, kernel size 3, stride 2, padding=\"valid\", 15 output channels )\n",
    "# 4. ReLU\n",
    "# 5. Convolutional layer, (input=length 9 and 15 channels, kernel size 3, stride 2, padding=\"valid\", 15 output channels)\n",
    "# 6. ReLU\n",
    "# 7. Flatten (converts 4x15) to length 60\n",
    "# 8. Linear layer (input size = 60, output size = 10)\n",
    "# References:\n",
    "# https://pytorch.org/docs/1.13/generated/torch.nn.Conv1d.html?highlight=conv1d#torch.nn.Conv1d\n",
    "# https://pytorch.org/docs/stable/generated/torch.nn.Flatten.html\n",
    "# https://pytorch.org/docs/1.13/generated/torch.nn.Linear.html?highlight=linear#torch.nn.Linear\n",
    "\n",
    "# NOTE THAT THE CONVOLUTIONAL LAYERS NEED TO TAKE THE NUMBER OF INPUT CHANNELS AS A PARAMETER\n",
    "# AND NOT THE INPUT SIZE.\n",
    "\n",
    "# Replace the following function:\n",
    "model = nn.Sequential(\n",
    "nn.Conv1d(in_channels=1, out_channels=15, kernel_size=3, stride=2, padding=\"valid\"),\n",
    "nn.ReLU(),\n",
    "nn.Conv1d(in_channels=15, out_channels=15, kernel_size=3, stride=2, padding=\"valid\"),\n",
    "nn.ReLU(),\n",
    "nn.Conv1d(in_channels=15, out_channels=15, kernel_size=3, stride=2, padding=\"valid\"),\n",
    "nn.ReLU(),\n",
    "nn.Flatten(),\n",
    "nn.Linear(in_features=60, out_features=10)\n",
    ")\n",
    "\n",
    "\n",
    "\n"
   ]
  },
  {
   "cell_type": "code",
   "execution_count": 8,
   "metadata": {
    "id": "YgLaex1pfhqz"
   },
   "outputs": [],
   "source": [
    "# He initialization of weights\n",
    "def weights_init(layer_in):\n",
    "  if isinstance(layer_in, nn.Linear):\n",
    "    nn.init.kaiming_uniform_(layer_in.weight)\n",
    "    layer_in.bias.data.fill_(0.0)"
   ]
  },
  {
   "cell_type": "code",
   "execution_count": 9,
   "metadata": {
    "id": "NYw8I_3mmX5c"
   },
   "outputs": [
    {
     "name": "stdout",
     "output_type": "stream",
     "text": [
      "Epoch     0, train loss 2.128485, train error 78.97,  val loss 2.121762, percent error 80.10\n",
      "Epoch     1, train loss 1.584075, train error 63.38,  val loss 1.610077, percent error 66.20\n",
      "Epoch     2, train loss 1.319269, train error 52.65,  val loss 1.331250, percent error 55.70\n",
      "Epoch     3, train loss 1.275779, train error 52.33,  val loss 1.302612, percent error 54.90\n",
      "Epoch     4, train loss 1.203311, train error 50.20,  val loss 1.226760, percent error 52.40\n",
      "Epoch     5, train loss 1.024547, train error 39.60,  val loss 1.038837, percent error 42.50\n",
      "Epoch     6, train loss 0.949030, train error 37.97,  val loss 0.975431, percent error 40.50\n",
      "Epoch     7, train loss 0.866669, train error 34.90,  val loss 0.916440, percent error 35.50\n",
      "Epoch     8, train loss 0.800420, train error 31.82,  val loss 0.865440, percent error 34.50\n",
      "Epoch     9, train loss 0.716922, train error 27.38,  val loss 0.786711, percent error 31.20\n",
      "Epoch    10, train loss 0.676604, train error 27.40,  val loss 0.750099, percent error 28.90\n",
      "Epoch    11, train loss 0.594065, train error 23.38,  val loss 0.690686, percent error 27.90\n",
      "Epoch    12, train loss 0.511252, train error 19.78,  val loss 0.598402, percent error 22.40\n",
      "Epoch    13, train loss 0.578379, train error 23.85,  val loss 0.657217, percent error 26.80\n",
      "Epoch    14, train loss 0.444386, train error 17.38,  val loss 0.554109, percent error 21.50\n",
      "Epoch    15, train loss 0.445506, train error 18.20,  val loss 0.569224, percent error 23.30\n",
      "Epoch    16, train loss 0.402652, train error 15.28,  val loss 0.535945, percent error 21.20\n",
      "Epoch    17, train loss 0.372542, train error 15.55,  val loss 0.512426, percent error 20.30\n",
      "Epoch    18, train loss 0.295010, train error 11.47,  val loss 0.453310, percent error 17.50\n",
      "Epoch    19, train loss 0.327227, train error 13.07,  val loss 0.488642, percent error 18.50\n",
      "Epoch    20, train loss 0.237030, train error 8.93,  val loss 0.408835, percent error 16.70\n",
      "Epoch    21, train loss 0.208689, train error 7.20,  val loss 0.399350, percent error 15.00\n",
      "Epoch    22, train loss 0.216023, train error 8.50,  val loss 0.418912, percent error 15.80\n",
      "Epoch    23, train loss 0.190618, train error 6.57,  val loss 0.392330, percent error 14.10\n",
      "Epoch    24, train loss 0.197615, train error 7.00,  val loss 0.407339, percent error 14.60\n",
      "Epoch    25, train loss 0.183510, train error 6.53,  val loss 0.393469, percent error 13.90\n",
      "Epoch    26, train loss 0.176497, train error 5.85,  val loss 0.393754, percent error 13.40\n",
      "Epoch    27, train loss 0.165241, train error 5.97,  val loss 0.396853, percent error 13.20\n",
      "Epoch    28, train loss 0.166291, train error 6.22,  val loss 0.383921, percent error 12.80\n",
      "Epoch    29, train loss 0.167785, train error 6.30,  val loss 0.403131, percent error 12.50\n",
      "Epoch    30, train loss 0.148590, train error 5.88,  val loss 0.380130, percent error 12.00\n",
      "Epoch    31, train loss 0.141977, train error 4.75,  val loss 0.375992, percent error 11.00\n",
      "Epoch    32, train loss 0.131103, train error 4.78,  val loss 0.385223, percent error 12.00\n",
      "Epoch    33, train loss 0.133714, train error 5.05,  val loss 0.375731, percent error 11.20\n",
      "Epoch    34, train loss 0.116925, train error 3.88,  val loss 0.379974, percent error 10.90\n",
      "Epoch    35, train loss 0.110177, train error 3.60,  val loss 0.366036, percent error 10.70\n",
      "Epoch    36, train loss 0.103430, train error 3.60,  val loss 0.378887, percent error 11.30\n",
      "Epoch    37, train loss 0.102132, train error 3.20,  val loss 0.371976, percent error 10.20\n",
      "Epoch    38, train loss 0.128712, train error 4.10,  val loss 0.407116, percent error 11.80\n",
      "Epoch    39, train loss 0.100246, train error 3.40,  val loss 0.341029, percent error 9.90\n",
      "Epoch    40, train loss 0.077533, train error 2.38,  val loss 0.353722, percent error 9.90\n",
      "Epoch    41, train loss 0.075101, train error 2.03,  val loss 0.366316, percent error 9.40\n",
      "Epoch    42, train loss 0.069116, train error 1.78,  val loss 0.362028, percent error 9.60\n",
      "Epoch    43, train loss 0.068273, train error 1.75,  val loss 0.362632, percent error 9.50\n",
      "Epoch    44, train loss 0.070213, train error 2.00,  val loss 0.366168, percent error 9.60\n",
      "Epoch    45, train loss 0.068545, train error 1.60,  val loss 0.373182, percent error 10.40\n",
      "Epoch    46, train loss 0.064160, train error 1.50,  val loss 0.379713, percent error 9.80\n",
      "Epoch    47, train loss 0.077067, train error 2.65,  val loss 0.392521, percent error 10.40\n",
      "Epoch    48, train loss 0.061575, train error 1.55,  val loss 0.384310, percent error 9.40\n",
      "Epoch    49, train loss 0.063713, train error 1.75,  val loss 0.383892, percent error 10.00\n",
      "Epoch    50, train loss 0.064251, train error 1.93,  val loss 0.387230, percent error 9.10\n",
      "Epoch    51, train loss 0.058424, train error 1.38,  val loss 0.381739, percent error 9.10\n",
      "Epoch    52, train loss 0.064509, train error 1.90,  val loss 0.395586, percent error 10.20\n",
      "Epoch    53, train loss 0.058322, train error 1.88,  val loss 0.387741, percent error 10.10\n",
      "Epoch    54, train loss 0.055794, train error 1.47,  val loss 0.385450, percent error 10.40\n",
      "Epoch    55, train loss 0.057641, train error 1.75,  val loss 0.400573, percent error 10.30\n",
      "Epoch    56, train loss 0.051694, train error 1.28,  val loss 0.406161, percent error 10.20\n",
      "Epoch    57, train loss 0.052633, train error 1.22,  val loss 0.403843, percent error 9.70\n",
      "Epoch    58, train loss 0.050695, train error 1.25,  val loss 0.403136, percent error 10.20\n",
      "Epoch    59, train loss 0.047061, train error 1.00,  val loss 0.404576, percent error 9.40\n",
      "Epoch    60, train loss 0.042908, train error 0.88,  val loss 0.399370, percent error 10.00\n",
      "Epoch    61, train loss 0.042511, train error 0.80,  val loss 0.406533, percent error 9.60\n",
      "Epoch    62, train loss 0.041472, train error 0.78,  val loss 0.408138, percent error 9.80\n",
      "Epoch    63, train loss 0.042556, train error 0.90,  val loss 0.413667, percent error 9.80\n",
      "Epoch    64, train loss 0.042072, train error 0.82,  val loss 0.411783, percent error 9.70\n",
      "Epoch    65, train loss 0.039870, train error 0.80,  val loss 0.412155, percent error 9.60\n",
      "Epoch    66, train loss 0.040442, train error 0.78,  val loss 0.413501, percent error 10.10\n",
      "Epoch    67, train loss 0.038725, train error 0.72,  val loss 0.416580, percent error 9.60\n",
      "Epoch    68, train loss 0.039012, train error 0.65,  val loss 0.418442, percent error 9.80\n",
      "Epoch    69, train loss 0.037742, train error 0.65,  val loss 0.422180, percent error 9.90\n",
      "Epoch    70, train loss 0.038187, train error 0.72,  val loss 0.424940, percent error 10.30\n",
      "Epoch    71, train loss 0.039584, train error 0.70,  val loss 0.428347, percent error 9.70\n",
      "Epoch    72, train loss 0.039772, train error 0.78,  val loss 0.425114, percent error 10.30\n",
      "Epoch    73, train loss 0.036259, train error 0.62,  val loss 0.426608, percent error 9.70\n",
      "Epoch    74, train loss 0.035871, train error 0.62,  val loss 0.426059, percent error 10.10\n",
      "Epoch    75, train loss 0.036162, train error 0.65,  val loss 0.432266, percent error 9.20\n",
      "Epoch    76, train loss 0.036186, train error 0.65,  val loss 0.431233, percent error 10.00\n",
      "Epoch    77, train loss 0.035466, train error 0.62,  val loss 0.436527, percent error 9.80\n",
      "Epoch    78, train loss 0.034450, train error 0.55,  val loss 0.434135, percent error 10.10\n",
      "Epoch    79, train loss 0.034272, train error 0.68,  val loss 0.435251, percent error 10.20\n",
      "Epoch    80, train loss 0.033263, train error 0.60,  val loss 0.434238, percent error 9.90\n",
      "Epoch    81, train loss 0.033066, train error 0.55,  val loss 0.437760, percent error 10.10\n",
      "Epoch    82, train loss 0.032794, train error 0.50,  val loss 0.437258, percent error 9.70\n",
      "Epoch    83, train loss 0.032787, train error 0.62,  val loss 0.439945, percent error 10.20\n",
      "Epoch    84, train loss 0.032727, train error 0.62,  val loss 0.438924, percent error 10.10\n",
      "Epoch    85, train loss 0.032198, train error 0.45,  val loss 0.438809, percent error 10.10\n",
      "Epoch    86, train loss 0.032115, train error 0.47,  val loss 0.440024, percent error 9.70\n",
      "Epoch    87, train loss 0.032489, train error 0.60,  val loss 0.442584, percent error 10.40\n",
      "Epoch    88, train loss 0.031816, train error 0.43,  val loss 0.440552, percent error 10.30\n",
      "Epoch    89, train loss 0.031616, train error 0.53,  val loss 0.443481, percent error 10.30\n",
      "Epoch    90, train loss 0.031864, train error 0.45,  val loss 0.445299, percent error 9.70\n",
      "Epoch    91, train loss 0.031220, train error 0.43,  val loss 0.446157, percent error 10.20\n",
      "Epoch    92, train loss 0.030984, train error 0.45,  val loss 0.445503, percent error 10.00\n",
      "Epoch    93, train loss 0.030828, train error 0.47,  val loss 0.445335, percent error 9.70\n",
      "Epoch    94, train loss 0.030676, train error 0.43,  val loss 0.447603, percent error 10.00\n",
      "Epoch    95, train loss 0.030928, train error 0.43,  val loss 0.449784, percent error 9.90\n",
      "Epoch    96, train loss 0.030385, train error 0.45,  val loss 0.448928, percent error 10.20\n",
      "Epoch    97, train loss 0.030122, train error 0.43,  val loss 0.448269, percent error 10.10\n",
      "Epoch    98, train loss 0.029963, train error 0.43,  val loss 0.449432, percent error 10.50\n",
      "Epoch    99, train loss 0.030446, train error 0.53,  val loss 0.450942, percent error 10.20\n"
     ]
    },
    {
     "data": {
      "image/png": "[encoded data removed]",
      "text/plain": [
       "<Figure size 640x480 with 1 Axes>"
      ]
     },
     "metadata": {},
     "output_type": "display_data"
    }
   ],
   "source": [
    "# choose cross entropy loss function (equation 5.24 in the loss notes)\n",
    "loss_function = nn.CrossEntropyLoss()\n",
    "# construct SGD optimizer and initialize learning rate and momentum\n",
    "optimizer = torch.optim.SGD(model.parameters(), lr = 0.05, momentum=0.9)\n",
    "# object that decreases learning rate by half every 20 epochs\n",
    "scheduler = StepLR(optimizer, step_size=20, gamma=0.5)\n",
    "# create 100 dummy data points and store in data loader class\n",
    "x_train = torch.tensor(train_data_x.transpose().astype('float32'))\n",
    "y_train = torch.tensor(train_data_y.astype('long')).long()\n",
    "x_val= torch.tensor(val_data_x.transpose().astype('float32'))\n",
    "y_val = torch.tensor(val_data_y.astype('long')).long()\n",
    "\n",
    "# load the data into a class that creates the batches\n",
    "data_loader = DataLoader(TensorDataset(x_train,y_train), batch_size=100, shuffle=True, worker_init_fn=np.random.seed(1))\n",
    "\n",
    "# Initialize model weights\n",
    "model.apply(weights_init)\n",
    "\n",
    "# loop over the dataset n_epoch times\n",
    "n_epoch = 100\n",
    "# store the loss and the % correct at each epoch\n",
    "losses_train = np.zeros((n_epoch))\n",
    "errors_train = np.zeros((n_epoch))\n",
    "losses_val = np.zeros((n_epoch))\n",
    "errors_val = np.zeros((n_epoch))\n",
    "\n",
    "for epoch in range(n_epoch):\n",
    "  # loop over batches\n",
    "  for i, data in enumerate(data_loader):\n",
    "    # retrieve inputs and labels for this batch\n",
    "    x_batch, y_batch = data\n",
    "    # zero the parameter gradients\n",
    "    optimizer.zero_grad()\n",
    "    # forward pass -- calculate model output\n",
    "    pred = model(x_batch[:,None,:])\n",
    "    # compute the loss\n",
    "    loss = loss_function(pred, y_batch)\n",
    "    # backward pass\n",
    "    loss.backward()\n",
    "    # SGD update\n",
    "    optimizer.step()\n",
    "\n",
    "  # Run whole dataset to get statistics -- normally wouldn't do this\n",
    "  pred_train = model(x_train[:,None,:])\n",
    "  pred_val = model(x_val[:,None,:])\n",
    "  _, predicted_train_class = torch.max(pred_train.data, 1)\n",
    "  _, predicted_val_class = torch.max(pred_val.data, 1)\n",
    "  errors_train[epoch] = 100 - 100 * (predicted_train_class == y_train).float().sum() / len(y_train)\n",
    "  errors_val[epoch]= 100 - 100 * (predicted_val_class == y_val).float().sum() / len(y_val)\n",
    "  losses_train[epoch] = loss_function(pred_train, y_train).item()\n",
    "  losses_val[epoch]= loss_function(pred_val, y_val).item()\n",
    "  print(f'Epoch {epoch:5d}, train loss {losses_train[epoch]:.6f}, train error {errors_train[epoch]:3.2f},  val loss {losses_val[epoch]:.6f}, percent error {errors_val[epoch]:3.2f}')\n",
    "\n",
    "  # tell scheduler to consider updating learning rate\n",
    "  scheduler.step()\n",
    "\n",
    "# Plot the results\n",
    "fig, ax = plt.subplots()\n",
    "ax.plot(errors_train,'r-',label='train')\n",
    "ax.plot(errors_val,'b-',label='validation')\n",
    "ax.set_ylim(0,100); ax.set_xlim(0,n_epoch)\n",
    "ax.set_xlabel('Epoch'); ax.set_ylabel('Error')\n",
    "ax.set_title('Part I: Validation Result %3.2f'%(errors_val[-1]))\n",
    "ax.legend()\n",
    "plt.show()"
   ]
  }
 ],
 "metadata": {
  "colab": {
   "authorship_tag": "ABX9TyNb46PJB/CC1pcHGfjpUUZg",
   "include_colab_link": true,
   "provenance": []
  },
  "kernelspec": {
   "display_name": "Python 3",
   "name": "python3"
  },
  "language_info": {
   "codemirror_mode": {
    "name": "ipython",
    "version": 3
   },
   "file_extension": ".py",
   "mimetype": "text/x-python",
   "name": "python",
   "nbconvert_exporter": "python",
   "pygments_lexer": "ipython3",
   "version": "3.12.3"
  }
 },
 "nbformat": 4,
 "nbformat_minor": 0
}
