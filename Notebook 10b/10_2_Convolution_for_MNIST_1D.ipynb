{
  "cells": [
    {
      "cell_type": "markdown",
      "metadata": {
        "colab_type": "text",
        "id": "view-in-github"
      },
      "source": [
        "<a href=\"https://colab.research.google.com/github/udlbook/udlbook/blob/main/Notebooks/Chap10/10_2_Convolution_for_MNIST_1D.ipynb\" target=\"_parent\"><img src=\"https://colab.research.google.com/assets/colab-badge.svg\" alt=\"Open In Colab\"/></a>"
      ]
    },
    {
      "cell_type": "markdown",
      "metadata": {
        "id": "t9vk9Elugvmi"
      },
      "source": [
        "# **Notebook 10.2: Convolution for MNIST-1D**\n",
        "\n",
        "This notebook investigates a 1D convolutional network for MNIST-1D as in figure 10.7 and 10.8a.\n",
        "\n",
        "Work through the cells below, running each cell in turn. In various places you will see the words \"TO DO\". Follow the instructions at these places and make predictions about what is going to happen or write code to complete the functions.\n",
        "\n",
        "Contact me at udlbookmail@gmail.com if you find any mistakes or have any suggestions.\n",
        "\n"
      ]
    },
    {
      "cell_type": "code",
      "execution_count": 1,
      "metadata": {
        "id": "D5yLObtZCi9J"
      },
      "outputs": [
        {
          "name": "stdout",
          "output_type": "stream",
          "text": [
            "Collecting git+https://github.com/greydanus/mnist1d\n",
            "  Cloning https://github.com/greydanus/mnist1d to c:\\users\\matth\\appdata\\local\\temp\\pip-req-build-d7u6u2m1\n",
            "  Resolved https://github.com/greydanus/mnist1d to commit 7878d96082abd200c546a07a4101fa90b30fdf7e\n",
            "  Installing build dependencies: started\n",
            "  Installing build dependencies: finished with status 'done'\n",
            "  Getting requirements to build wheel: started\n",
            "  Getting requirements to build wheel: finished with status 'done'\n",
            "  Preparing metadata (pyproject.toml): started\n",
            "  Preparing metadata (pyproject.toml): finished with status 'done'\n",
            "Requirement already satisfied: requests in c:\\users\\matth\\appdata\\local\\programs\\python\\python312\\lib\\site-packages (from mnist1d==0.0.2.post16) (2.32.3)\n",
            "Requirement already satisfied: numpy in c:\\users\\matth\\appdata\\local\\programs\\python\\python312\\lib\\site-packages (from mnist1d==0.0.2.post16) (2.1.0)\n",
            "Requirement already satisfied: matplotlib in c:\\users\\matth\\appdata\\local\\programs\\python\\python312\\lib\\site-packages (from mnist1d==0.0.2.post16) (3.9.2)\n",
            "Requirement already satisfied: scipy in c:\\users\\matth\\appdata\\local\\programs\\python\\python312\\lib\\site-packages (from mnist1d==0.0.2.post16) (1.14.1)\n",
            "Requirement already satisfied: contourpy>=1.0.1 in c:\\users\\matth\\appdata\\local\\programs\\python\\python312\\lib\\site-packages (from matplotlib->mnist1d==0.0.2.post16) (1.3.0)\n",
            "Requirement already satisfied: cycler>=0.10 in c:\\users\\matth\\appdata\\local\\programs\\python\\python312\\lib\\site-packages (from matplotlib->mnist1d==0.0.2.post16) (0.12.1)\n",
            "Requirement already satisfied: fonttools>=4.22.0 in c:\\users\\matth\\appdata\\local\\programs\\python\\python312\\lib\\site-packages (from matplotlib->mnist1d==0.0.2.post16) (4.53.1)\n",
            "Requirement already satisfied: kiwisolver>=1.3.1 in c:\\users\\matth\\appdata\\local\\programs\\python\\python312\\lib\\site-packages (from matplotlib->mnist1d==0.0.2.post16) (1.4.5)\n",
            "Requirement already satisfied: packaging>=20.0 in c:\\users\\matth\\appdata\\roaming\\python\\python312\\site-packages (from matplotlib->mnist1d==0.0.2.post16) (24.1)\n",
            "Requirement already satisfied: pillow>=8 in c:\\users\\matth\\appdata\\local\\programs\\python\\python312\\lib\\site-packages (from matplotlib->mnist1d==0.0.2.post16) (10.4.0)\n",
            "Requirement already satisfied: pyparsing>=2.3.1 in c:\\users\\matth\\appdata\\local\\programs\\python\\python312\\lib\\site-packages (from matplotlib->mnist1d==0.0.2.post16) (3.1.4)\n",
            "Requirement already satisfied: python-dateutil>=2.7 in c:\\users\\matth\\appdata\\roaming\\python\\python312\\site-packages (from matplotlib->mnist1d==0.0.2.post16) (2.9.0.post0)\n",
            "Requirement already satisfied: charset-normalizer<4,>=2 in c:\\users\\matth\\appdata\\local\\programs\\python\\python312\\lib\\site-packages (from requests->mnist1d==0.0.2.post16) (3.3.2)\n",
            "Requirement already satisfied: idna<4,>=2.5 in c:\\users\\matth\\appdata\\local\\programs\\python\\python312\\lib\\site-packages (from requests->mnist1d==0.0.2.post16) (3.10)\n",
            "Requirement already satisfied: urllib3<3,>=1.21.1 in c:\\users\\matth\\appdata\\local\\programs\\python\\python312\\lib\\site-packages (from requests->mnist1d==0.0.2.post16) (2.2.3)\n",
            "Requirement already satisfied: certifi>=2017.4.17 in c:\\users\\matth\\appdata\\local\\programs\\python\\python312\\lib\\site-packages (from requests->mnist1d==0.0.2.post16) (2024.8.30)\n",
            "Requirement already satisfied: six>=1.5 in c:\\users\\matth\\appdata\\roaming\\python\\python312\\site-packages (from python-dateutil>=2.7->matplotlib->mnist1d==0.0.2.post16) (1.16.0)\n"
          ]
        },
        {
          "name": "stderr",
          "output_type": "stream",
          "text": [
            "  Running command git clone --filter=blob:none --quiet https://github.com/greydanus/mnist1d 'C:\\Users\\matth\\AppData\\Local\\Temp\\pip-req-build-d7u6u2m1'\n",
            "\n",
            "[notice] A new release of pip is available: 24.2 -> 24.3.1\n",
            "[notice] To update, run: python.exe -m pip install --upgrade pip\n"
          ]
        }
      ],
      "source": [
        "# Run this if you're in a Colab to install MNIST 1D repository\n",
        "!pip install git+https://github.com/greydanus/mnist1d"
      ]
    },
    {
      "cell_type": "code",
      "execution_count": 2,
      "metadata": {
        "id": "YrXWAH7sUWvU"
      },
      "outputs": [],
      "source": [
        "import numpy as np\n",
        "import os\n",
        "import torch, torch.nn as nn\n",
        "from torch.utils.data import TensorDataset, DataLoader\n",
        "from torch.optim.lr_scheduler import StepLR\n",
        "import matplotlib.pyplot as plt\n",
        "import mnist1d\n",
        "import random"
      ]
    },
    {
      "cell_type": "code",
      "execution_count": 3,
      "metadata": {
        "id": "twI72ZCrCt5z"
      },
      "outputs": [
        {
          "name": "stdout",
          "output_type": "stream",
          "text": [
            "Did or could not load data from ./mnist1d_data.pkl. Rebuilding dataset...\n",
            "Examples in training set: 4000\n",
            "Examples in test set: 1000\n",
            "Length of each example: 40\n"
          ]
        }
      ],
      "source": [
        "args = mnist1d.data.get_dataset_args()\n",
        "data = mnist1d.data.get_dataset(args, path='./mnist1d_data.pkl', download=False, regenerate=False)\n",
        "\n",
        "# The training and test input and outputs are in\n",
        "# data['x'], data['y'], data['x_test'], and data['y_test']\n",
        "print(\"Examples in training set: {}\".format(len(data['y'])))\n",
        "print(\"Examples in test set: {}\".format(len(data['y_test'])))\n",
        "print(\"Length of each example: {}\".format(data['x'].shape[-1]))"
      ]
    },
    {
      "cell_type": "code",
      "execution_count": 4,
      "metadata": {
        "id": "8bKADvLHbiV5"
      },
      "outputs": [
        {
          "name": "stdout",
          "output_type": "stream",
          "text": [
            "Train data: 4000 examples (columns), each of which has 40 dimensions (rows)\n",
            "Validation data: 1000 examples (columns), each of which has 40 dimensions (rows)\n"
          ]
        }
      ],
      "source": [
        "# Load in the data\n",
        "train_data_x = data['x'].transpose()\n",
        "train_data_y = data['y']\n",
        "val_data_x = data['x_test'].transpose()\n",
        "val_data_y = data['y_test']\n",
        "# Print out sizes\n",
        "print(\"Train data: %d examples (columns), each of which has %d dimensions (rows)\"%((train_data_x.shape[1],train_data_x.shape[0])))\n",
        "print(\"Validation data: %d examples (columns), each of which has %d dimensions (rows)\"%((val_data_x.shape[1],val_data_x.shape[0])))"
      ]
    },
    {
      "cell_type": "markdown",
      "metadata": {
        "id": "_sFvRDGrl4qe"
      },
      "source": [
        "Define the network"
      ]
    },
    {
      "cell_type": "code",
      "execution_count": 5,
      "metadata": {
        "id": "FslroPJJffrh"
      },
      "outputs": [],
      "source": [
        "# There are 40 input dimensions and 10 output dimensions for this data\n",
        "# The inputs correspond to the 40 offsets in the MNIST1D template.\n",
        "D_i = 40\n",
        "# The outputs correspond to the 10 digits\n",
        "D_o = 10\n",
        "\n",
        "\n",
        "# TODO Create a model with the following layers\n",
        "# 1. Convolutional layer, (input=length 40 and 1 channel, kernel size 3, stride 2, padding=\"valid\", 15 output channels )\n",
        "layer_1 = nn.Conv1d(in_channels=1, out_channels=15, kernel_size=3, stride=2, padding=1)\n",
        "# 2. ReLU\n",
        "nn.ReLU()\n",
        "# 3. Convolutional layer, (input=length 19 and 15 channels, kernel size 3, stride 2, padding=\"valid\", 15 output channels )\n",
        "layer_2 = nn.Conv1d(in_channels=15, out_channels=15, kernel_size=3, stride=2, padding=1)\n",
        "# 4. ReLU\n",
        "nn.ReLU()\n",
        "# 5. Convolutional layer, (input=length 9 and 15 channels, kernel size 3, stride 2, padding=\"valid\", 15 output channels)\n",
        "layer_3 = nn.Conv1d(in_channels=15, out_channels=15, kernel_size=3, stride=2, padding=1)\n",
        "# 6. ReLU\n",
        "nn.ReLU()\n",
        "# 7. Flatten (converts 4x15) to length 60\n",
        "nn.Flatten()\n",
        "# 8. Linear layer (input size = 60, output size = 10)\n",
        "nn.Linear(60, 10)\n",
        "# References:\n",
        "# https://pytorch.org/docs/1.13/generated/torch.nn.Conv1d.html?highlight=conv1d#torch.nn.Conv1d\n",
        "# https://pytorch.org/docs/stable/generated/torch.nn.Flatten.html\n",
        "# https://pytorch.org/docs/1.13/generated/torch.nn.Linear.html?highlight=linear#torch.nn.Linear\n",
        "\n",
        "# NOTE THAT THE CONVOLUTIONAL LAYERS NEED TO TAKE THE NUMBER OF INPUT CHANNELS AS A PARAMETER\n",
        "# AND NOT THE INPUT SIZE.\n",
        "\n",
        "# Replace the following function:\n",
        "model = nn.Sequential(\n",
        "nn.Flatten(),\n",
        "nn.Linear(40, 100),\n",
        "nn.ReLU(),\n",
        "nn.Linear(100, 100),\n",
        "nn.ReLU(),\n",
        "nn.Linear(100, 10))\n",
        "\n",
        "\n",
        "\n"
      ]
    },
    {
      "cell_type": "code",
      "execution_count": 6,
      "metadata": {
        "id": "YgLaex1pfhqz"
      },
      "outputs": [],
      "source": [
        "# He initialization of weights\n",
        "def weights_init(layer_in):\n",
        "  if isinstance(layer_in, nn.Linear):\n",
        "    nn.init.kaiming_uniform_(layer_in.weight)\n",
        "    layer_in.bias.data.fill_(0.0)"
      ]
    },
    {
      "cell_type": "code",
      "execution_count": 7,
      "metadata": {
        "id": "NYw8I_3mmX5c"
      },
      "outputs": [
        {
          "name": "stdout",
          "output_type": "stream",
          "text": [
            "Epoch     0, train loss 1.560226, train error 58.15,  val loss 1.648847, percent error 65.40\n",
            "Epoch     1, train loss 1.330203, train error 48.92,  val loss 1.475858, percent error 57.70\n",
            "Epoch     2, train loss 1.131818, train error 40.65,  val loss 1.322133, percent error 52.30\n",
            "Epoch     3, train loss 0.979848, train error 35.20,  val loss 1.242749, percent error 48.70\n",
            "Epoch     4, train loss 0.863703, train error 30.57,  val loss 1.167194, percent error 44.80\n",
            "Epoch     5, train loss 0.763999, train error 26.38,  val loss 1.127907, percent error 44.30\n",
            "Epoch     6, train loss 0.694863, train error 23.45,  val loss 1.174602, percent error 44.00\n",
            "Epoch     7, train loss 0.627248, train error 22.07,  val loss 1.151704, percent error 43.10\n",
            "Epoch     8, train loss 0.543131, train error 17.88,  val loss 1.111040, percent error 40.10\n",
            "Epoch     9, train loss 0.505481, train error 17.82,  val loss 1.102394, percent error 40.70\n",
            "Epoch    10, train loss 0.455434, train error 15.10,  val loss 1.118194, percent error 40.00\n",
            "Epoch    11, train loss 0.411132, train error 13.85,  val loss 1.129339, percent error 39.40\n",
            "Epoch    12, train loss 0.379586, train error 13.12,  val loss 1.169006, percent error 38.70\n",
            "Epoch    13, train loss 0.318943, train error 9.75,  val loss 1.162405, percent error 39.40\n",
            "Epoch    14, train loss 0.289013, train error 8.97,  val loss 1.217563, percent error 38.60\n",
            "Epoch    15, train loss 0.233781, train error 6.60,  val loss 1.167253, percent error 38.40\n",
            "Epoch    16, train loss 0.204867, train error 5.57,  val loss 1.247077, percent error 37.90\n",
            "Epoch    17, train loss 0.199657, train error 5.78,  val loss 1.272667, percent error 36.40\n",
            "Epoch    18, train loss 0.179887, train error 4.93,  val loss 1.345284, percent error 37.80\n",
            "Epoch    19, train loss 0.154420, train error 4.32,  val loss 1.345910, percent error 39.10\n",
            "Epoch    20, train loss 0.076230, train error 0.57,  val loss 1.278173, percent error 34.30\n",
            "Epoch    21, train loss 0.063550, train error 0.30,  val loss 1.304834, percent error 34.50\n",
            "Epoch    22, train loss 0.051945, train error 0.10,  val loss 1.309029, percent error 34.50\n",
            "Epoch    23, train loss 0.045415, train error 0.05,  val loss 1.348724, percent error 34.70\n",
            "Epoch    24, train loss 0.040357, train error 0.05,  val loss 1.364215, percent error 35.10\n",
            "Epoch    25, train loss 0.037311, train error 0.03,  val loss 1.389162, percent error 34.50\n",
            "Epoch    26, train loss 0.033746, train error 0.00,  val loss 1.402786, percent error 35.00\n",
            "Epoch    27, train loss 0.031160, train error 0.00,  val loss 1.420725, percent error 34.60\n",
            "Epoch    28, train loss 0.029484, train error 0.00,  val loss 1.444892, percent error 34.90\n",
            "Epoch    29, train loss 0.027532, train error 0.00,  val loss 1.456496, percent error 35.50\n",
            "Epoch    30, train loss 0.025527, train error 0.00,  val loss 1.466603, percent error 35.00\n",
            "Epoch    31, train loss 0.023965, train error 0.00,  val loss 1.486416, percent error 35.00\n",
            "Epoch    32, train loss 0.022460, train error 0.00,  val loss 1.493946, percent error 35.10\n",
            "Epoch    33, train loss 0.021048, train error 0.00,  val loss 1.511201, percent error 35.00\n",
            "Epoch    34, train loss 0.020288, train error 0.00,  val loss 1.532789, percent error 34.70\n",
            "Epoch    35, train loss 0.019072, train error 0.00,  val loss 1.533565, percent error 35.60\n",
            "Epoch    36, train loss 0.017956, train error 0.00,  val loss 1.545439, percent error 35.30\n",
            "Epoch    37, train loss 0.017207, train error 0.00,  val loss 1.564728, percent error 35.40\n",
            "Epoch    38, train loss 0.016541, train error 0.00,  val loss 1.571459, percent error 35.30\n",
            "Epoch    39, train loss 0.015719, train error 0.00,  val loss 1.592221, percent error 35.30\n",
            "Epoch    40, train loss 0.015113, train error 0.00,  val loss 1.588780, percent error 34.90\n",
            "Epoch    41, train loss 0.014814, train error 0.00,  val loss 1.594915, percent error 35.10\n",
            "Epoch    42, train loss 0.014475, train error 0.00,  val loss 1.597888, percent error 34.90\n",
            "Epoch    43, train loss 0.014293, train error 0.00,  val loss 1.604750, percent error 34.80\n",
            "Epoch    44, train loss 0.013944, train error 0.00,  val loss 1.608749, percent error 34.80\n",
            "Epoch    45, train loss 0.013640, train error 0.00,  val loss 1.614751, percent error 35.20\n",
            "Epoch    46, train loss 0.013375, train error 0.00,  val loss 1.619267, percent error 35.10\n",
            "Epoch    47, train loss 0.013147, train error 0.00,  val loss 1.622969, percent error 35.20\n",
            "Epoch    48, train loss 0.012945, train error 0.00,  val loss 1.629997, percent error 35.20\n",
            "Epoch    49, train loss 0.012694, train error 0.00,  val loss 1.633575, percent error 35.30\n",
            "Epoch    50, train loss 0.012434, train error 0.00,  val loss 1.636905, percent error 35.20\n",
            "Epoch    51, train loss 0.012254, train error 0.00,  val loss 1.641989, percent error 35.50\n",
            "Epoch    52, train loss 0.012038, train error 0.00,  val loss 1.649405, percent error 35.20\n",
            "Epoch    53, train loss 0.011799, train error 0.00,  val loss 1.649404, percent error 34.90\n",
            "Epoch    54, train loss 0.011594, train error 0.00,  val loss 1.655396, percent error 35.40\n",
            "Epoch    55, train loss 0.011441, train error 0.00,  val loss 1.663026, percent error 34.80\n",
            "Epoch    56, train loss 0.011265, train error 0.00,  val loss 1.668277, percent error 35.40\n",
            "Epoch    57, train loss 0.011043, train error 0.00,  val loss 1.669619, percent error 35.20\n",
            "Epoch    58, train loss 0.010872, train error 0.00,  val loss 1.672425, percent error 34.90\n",
            "Epoch    59, train loss 0.010695, train error 0.00,  val loss 1.677794, percent error 35.20\n",
            "Epoch    60, train loss 0.010584, train error 0.00,  val loss 1.680975, percent error 35.30\n",
            "Epoch    61, train loss 0.010503, train error 0.00,  val loss 1.682701, percent error 35.30\n",
            "Epoch    62, train loss 0.010420, train error 0.00,  val loss 1.685294, percent error 35.20\n",
            "Epoch    63, train loss 0.010338, train error 0.00,  val loss 1.686244, percent error 35.20\n",
            "Epoch    64, train loss 0.010265, train error 0.00,  val loss 1.688696, percent error 35.30\n",
            "Epoch    65, train loss 0.010186, train error 0.00,  val loss 1.690464, percent error 35.10\n",
            "Epoch    66, train loss 0.010108, train error 0.00,  val loss 1.693124, percent error 35.10\n",
            "Epoch    67, train loss 0.010032, train error 0.00,  val loss 1.695176, percent error 35.40\n",
            "Epoch    68, train loss 0.009957, train error 0.00,  val loss 1.696501, percent error 35.20\n",
            "Epoch    69, train loss 0.009884, train error 0.00,  val loss 1.698116, percent error 35.20\n",
            "Epoch    70, train loss 0.009817, train error 0.00,  val loss 1.700686, percent error 35.30\n",
            "Epoch    71, train loss 0.009742, train error 0.00,  val loss 1.702046, percent error 35.10\n",
            "Epoch    72, train loss 0.009675, train error 0.00,  val loss 1.704355, percent error 35.20\n",
            "Epoch    73, train loss 0.009601, train error 0.00,  val loss 1.706304, percent error 35.20\n",
            "Epoch    74, train loss 0.009536, train error 0.00,  val loss 1.706997, percent error 35.20\n",
            "Epoch    75, train loss 0.009467, train error 0.00,  val loss 1.711306, percent error 35.40\n",
            "Epoch    76, train loss 0.009400, train error 0.00,  val loss 1.711246, percent error 35.50\n",
            "Epoch    77, train loss 0.009334, train error 0.00,  val loss 1.713520, percent error 35.10\n",
            "Epoch    78, train loss 0.009267, train error 0.00,  val loss 1.715139, percent error 35.30\n",
            "Epoch    79, train loss 0.009204, train error 0.00,  val loss 1.718234, percent error 35.50\n",
            "Epoch    80, train loss 0.009168, train error 0.00,  val loss 1.718820, percent error 35.40\n",
            "Epoch    81, train loss 0.009136, train error 0.00,  val loss 1.719349, percent error 35.40\n",
            "Epoch    82, train loss 0.009104, train error 0.00,  val loss 1.720244, percent error 35.50\n",
            "Epoch    83, train loss 0.009073, train error 0.00,  val loss 1.721290, percent error 35.40\n",
            "Epoch    84, train loss 0.009043, train error 0.00,  val loss 1.722620, percent error 35.40\n",
            "Epoch    85, train loss 0.009012, train error 0.00,  val loss 1.722829, percent error 35.30\n",
            "Epoch    86, train loss 0.008982, train error 0.00,  val loss 1.723750, percent error 35.20\n",
            "Epoch    87, train loss 0.008951, train error 0.00,  val loss 1.724821, percent error 35.50\n",
            "Epoch    88, train loss 0.008921, train error 0.00,  val loss 1.725738, percent error 35.30\n",
            "Epoch    89, train loss 0.008891, train error 0.00,  val loss 1.726728, percent error 35.20\n",
            "Epoch    90, train loss 0.008861, train error 0.00,  val loss 1.727826, percent error 35.40\n",
            "Epoch    91, train loss 0.008831, train error 0.00,  val loss 1.728377, percent error 35.30\n",
            "Epoch    92, train loss 0.008801, train error 0.00,  val loss 1.729140, percent error 35.20\n",
            "Epoch    93, train loss 0.008772, train error 0.00,  val loss 1.730150, percent error 35.30\n",
            "Epoch    94, train loss 0.008744, train error 0.00,  val loss 1.731650, percent error 35.40\n",
            "Epoch    95, train loss 0.008714, train error 0.00,  val loss 1.731506, percent error 35.20\n",
            "Epoch    96, train loss 0.008686, train error 0.00,  val loss 1.732786, percent error 35.20\n",
            "Epoch    97, train loss 0.008657, train error 0.00,  val loss 1.733547, percent error 35.20\n",
            "Epoch    98, train loss 0.008629, train error 0.00,  val loss 1.734088, percent error 35.40\n",
            "Epoch    99, train loss 0.008601, train error 0.00,  val loss 1.735525, percent error 35.40\n"
          ]
        },
        {
          "data": {
            "image/png": "[encoded data removed]",
            "text/plain": [
              "<Figure size 640x480 with 1 Axes>"
            ]
          },
          "metadata": {},
          "output_type": "display_data"
        }
      ],
      "source": [
        "# choose cross entropy loss function (equation 5.24 in the loss notes)\n",
        "loss_function = nn.CrossEntropyLoss()\n",
        "# construct SGD optimizer and initialize learning rate and momentum\n",
        "optimizer = torch.optim.SGD(model.parameters(), lr = 0.05, momentum=0.9)\n",
        "# object that decreases learning rate by half every 20 epochs\n",
        "scheduler = StepLR(optimizer, step_size=20, gamma=0.5)\n",
        "# create 100 dummy data points and store in data loader class\n",
        "x_train = torch.tensor(train_data_x.transpose().astype('float32'))\n",
        "y_train = torch.tensor(train_data_y.astype('long')).long()\n",
        "x_val= torch.tensor(val_data_x.transpose().astype('float32'))\n",
        "y_val = torch.tensor(val_data_y.astype('long')).long()\n",
        "\n",
        "# load the data into a class that creates the batches\n",
        "data_loader = DataLoader(TensorDataset(x_train,y_train), batch_size=100, shuffle=True, worker_init_fn=np.random.seed(1))\n",
        "\n",
        "# Initialize model weights\n",
        "model.apply(weights_init)\n",
        "\n",
        "# loop over the dataset n_epoch times\n",
        "n_epoch = 100\n",
        "# store the loss and the % correct at each epoch\n",
        "losses_train = np.zeros((n_epoch))\n",
        "errors_train = np.zeros((n_epoch))\n",
        "losses_val = np.zeros((n_epoch))\n",
        "errors_val = np.zeros((n_epoch))\n",
        "\n",
        "for epoch in range(n_epoch):\n",
        "  # loop over batches\n",
        "  for i, data in enumerate(data_loader):\n",
        "    # retrieve inputs and labels for this batch\n",
        "    x_batch, y_batch = data\n",
        "    # zero the parameter gradients\n",
        "    optimizer.zero_grad()\n",
        "    # forward pass -- calculate model output\n",
        "    pred = model(x_batch[:,None,:])\n",
        "    # compute the loss\n",
        "    loss = loss_function(pred, y_batch)\n",
        "    # backward pass\n",
        "    loss.backward()\n",
        "    # SGD update\n",
        "    optimizer.step()\n",
        "\n",
        "  # Run whole dataset to get statistics -- normally wouldn't do this\n",
        "  pred_train = model(x_train[:,None,:])\n",
        "  pred_val = model(x_val[:,None,:])\n",
        "  _, predicted_train_class = torch.max(pred_train.data, 1)\n",
        "  _, predicted_val_class = torch.max(pred_val.data, 1)\n",
        "  errors_train[epoch] = 100 - 100 * (predicted_train_class == y_train).float().sum() / len(y_train)\n",
        "  errors_val[epoch]= 100 - 100 * (predicted_val_class == y_val).float().sum() / len(y_val)\n",
        "  losses_train[epoch] = loss_function(pred_train, y_train).item()\n",
        "  losses_val[epoch]= loss_function(pred_val, y_val).item()\n",
        "  print(f'Epoch {epoch:5d}, train loss {losses_train[epoch]:.6f}, train error {errors_train[epoch]:3.2f},  val loss {losses_val[epoch]:.6f}, percent error {errors_val[epoch]:3.2f}')\n",
        "\n",
        "  # tell scheduler to consider updating learning rate\n",
        "  scheduler.step()\n",
        "\n",
        "# Plot the results\n",
        "fig, ax = plt.subplots()\n",
        "ax.plot(errors_train,'r-',label='train')\n",
        "ax.plot(errors_val,'b-',label='validation')\n",
        "ax.set_ylim(0,100); ax.set_xlim(0,n_epoch)\n",
        "ax.set_xlabel('Epoch'); ax.set_ylabel('Error')\n",
        "ax.set_title('Part I: Validation Result %3.2f'%(errors_val[-1]))\n",
        "ax.legend()\n",
        "plt.show()"
      ]
    }
  ],
  "metadata": {
    "colab": {
      "authorship_tag": "ABX9TyNb46PJB/CC1pcHGfjpUUZg",
      "include_colab_link": true,
      "provenance": []
    },
    "kernelspec": {
      "display_name": "Python 3",
      "name": "python3"
    },
    "language_info": {
      "codemirror_mode": {
        "name": "ipython",
        "version": 3
      },
      "file_extension": ".py",
      "mimetype": "text/x-python",
      "name": "python",
      "nbconvert_exporter": "python",
      "pygments_lexer": "ipython3",
      "version": "3.12.3"
    }
  },
  "nbformat": 4,
  "nbformat_minor": 0
}
